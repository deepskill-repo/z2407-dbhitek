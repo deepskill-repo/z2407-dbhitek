{
 "cells": [
  {
   "cell_type": "markdown",
   "metadata": {},
   "source": [
    "# `class` 사용하기 (객체 지향형 프로그래밍, Object Oriented Programing)\n",
    "\n",
    "왜 `head(data)`가 아니라 `data.head()`일까?"
   ]
  },
  {
   "cell_type": "code",
   "execution_count": null,
   "metadata": {},
   "outputs": [],
   "source": [
    "import pandas as pd\n",
    "# 1 개체 지향형: function-oriented vs object-oriented\n",
    "ski = pd.read_csv(\"ski_downhill.csv\")  # 함수(function)\n",
    "ski.to_csv(\"ski_downhill2.csv\")        # 메소드(method)\n",
    "ski.columns                            # 속성(attributes)"
   ]
  },
  {
   "cell_type": "code",
   "execution_count": null,
   "metadata": {},
   "outputs": [],
   "source": [
    "# 2 클래스(class) 간단 체험\n",
    "class OvenFactory():\n",
    "    is_door_open = False\n",
    "    temperature = 100\n",
    "    \n",
    "    def open_door(self):\n",
    "        self.is_door_open = True\n",
    "    def close_door(self):\n",
    "        self.is_door_open = False\n",
    "        \n",
    "    def set_temperature(self, temperature):\n",
    "        self.temperature = temperature"
   ]
  },
  {
   "cell_type": "code",
   "execution_count": null,
   "metadata": {},
   "outputs": [],
   "source": [
    "# 3 개체 생성\n",
    "new_oven = OvenFactory()"
   ]
  },
  {
   "cell_type": "code",
   "execution_count": null,
   "metadata": {},
   "outputs": [],
   "source": [
    "# 4 메소드 & 속성\n",
    "new_oven.open_door()\n",
    "new_oven.is_door_open"
   ]
  },
  {
   "cell_type": "code",
   "execution_count": null,
   "metadata": {},
   "outputs": [],
   "source": [
    "# 5 메소드 & 속성\n",
    "new_oven.set_temperature(temperature=250)\n",
    "new_oven.temperature"
   ]
  }
 ],
 "metadata": {
  "language_info": {
   "name": "python"
  }
 },
 "nbformat": 4,
 "nbformat_minor": 2
}
