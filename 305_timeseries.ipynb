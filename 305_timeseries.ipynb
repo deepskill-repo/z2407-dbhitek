{
 "cells": [
  {
   "cell_type": "markdown",
   "metadata": {},
   "source": [
    "# 시계열 예측\n",
    "\n",
    "(출처: [Kaggle](https://www.kaggle.com/code/mohamedyosef101/energy-consumption-time-series-forecasting))\n",
    "\n",
    "(참고 문헌: [Rob J Hyndman](https://otexts.com/fpp3/))\n",
    "\n"
   ]
  },
  {
   "cell_type": "code",
   "execution_count": null,
   "metadata": {},
   "outputs": [],
   "source": [
    "import pandas as pd\n",
    "import numpy as np\n",
    "import matplotlib.pyplot as plt\n",
    "import seaborn as sns\n",
    "import warnings\n",
    "warnings.filterwarnings('ignore')\n",
    "\n",
    "# customize the style\n",
    "pd.options.display.float_format = '{:.5f}'.format\n",
    "pd.options.display.max_rows = 12\n",
    "\n",
    "# load the data\n",
    "df = pd.read_csv('AEP_hourly2.csv')\n",
    "df.head()"
   ]
  },
  {
   "cell_type": "markdown",
   "metadata": {},
   "source": [
    "## 시계열 데이터 탐색"
   ]
  },
  {
   "cell_type": "code",
   "execution_count": null,
   "metadata": {},
   "outputs": [],
   "source": [
    "df = df.set_index('Datetime')\n",
    "df.index = pd.to_datetime(df.index)"
   ]
  },
  {
   "cell_type": "code",
   "execution_count": null,
   "metadata": {},
   "outputs": [],
   "source": [
    "df.plot(style='.',\n",
    "        figsize=(15, 5),\n",
    "        title='PJM Energy (in MW) over time')\n",
    "plt.show()"
   ]
  },
  {
   "cell_type": "code",
   "execution_count": null,
   "metadata": {},
   "outputs": [],
   "source": [
    "# ACT, PACF\n",
    "from statsmodels.graphics.tsaplots import plot_acf, plot_pacf\n",
    "fig, (ax1, ax2) = plt.subplots(2, 1, figsize=(12, 8))\n",
    "plot_acf(df, ax=ax1, lags=50)\n",
    "plot_pacf(df, ax=ax2, lags=50)\n",
    "plt.tight_layout()\n",
    "plt.show()"
   ]
  },
  {
   "cell_type": "code",
   "execution_count": null,
   "metadata": {},
   "outputs": [],
   "source": [
    "# 시계열 분해\n",
    "from statsmodels.tsa.seasonal import seasonal_decompose\n",
    "result = seasonal_decompose(df, model='additive', period=365)\n",
    "result.plot()\n",
    "plt.tight_layout()\n",
    "plt.show()"
   ]
  },
  {
   "cell_type": "markdown",
   "metadata": {},
   "source": [
    "## 모델링"
   ]
  },
  {
   "cell_type": "code",
   "execution_count": null,
   "metadata": {},
   "outputs": [],
   "source": [
    "# 시계열 데이터의 train/test 분할\n",
    "train_size = int(len(df) * 0.8)\n",
    "train, test = df[:train_size], df[train_size:]"
   ]
  },
  {
   "cell_type": "code",
   "execution_count": null,
   "metadata": {},
   "outputs": [],
   "source": [
    "from sklearn.metrics import mean_squared_error\n",
    "from math import sqrt\n",
    "\n",
    "# Naive 모델\n",
    "naive_forecast = test.shift(1)\n",
    "naive_rmse = sqrt(mean_squared_error(test[1:], naive_forecast[1:]))\n",
    "print(f\"Naive 모델 RMSE: {naive_rmse}\")"
   ]
  },
  {
   "cell_type": "code",
   "execution_count": null,
   "metadata": {},
   "outputs": [],
   "source": [
    "# ARIMA 모델\n",
    "model = ARIMA(train, order=(1,1,1))\n",
    "model_fit = model.fit()\n",
    "arima_forecast = model_fit.forecast(steps=len(test))\n",
    "arima_rmse = sqrt(mean_squared_error(test, arima_forecast))\n",
    "print(f\"ARIMA 모델 RMSE: {arima_rmse}\")"
   ]
  },
  {
   "cell_type": "code",
   "execution_count": null,
   "metadata": {},
   "outputs": [],
   "source": [
    "from tensorflow.keras.models import Sequential\n",
    "from tensorflow.keras.layers import LSTM, Dense\n",
    "\n",
    "# LSTM 모델\n",
    "def create_dataset(X, y, time_steps=1):\n",
    "    Xs, ys = [], []\n",
    "    for i in range(len(X) - time_steps):\n",
    "        v = X.iloc[i:(i + time_steps)].values\n",
    "        Xs.append(v)\n",
    "        ys.append(y.iloc[i + time_steps])\n",
    "    return np.array(Xs), np.array(ys)\n",
    "\n",
    "time_steps = 10\n",
    "X_train, y_train = create_dataset(train, train, time_steps)\n",
    "X_test, y_test = create_dataset(test, test, time_steps)\n",
    "\n",
    "model = Sequential()\n",
    "model.add(LSTM(50, activation='relu', input_shape=(time_steps, 1)))\n",
    "model.add(Dense(1))\n",
    "model.compile(optimizer='adam', loss='mse')\n",
    "\n",
    "model.fit(X_train, y_train, epochs=100, batch_size=32, validation_split=0.1, verbose=0)\n",
    "\n",
    "lstm_forecast = model.predict(X_test)\n",
    "lstm_rmse = sqrt(mean_squared_error(y_test, lstm_forecast))\n",
    "print(f\"LSTM 모델 RMSE: {lstm_rmse}\")"
   ]
  },
  {
   "cell_type": "code",
   "execution_count": null,
   "metadata": {},
   "outputs": [],
   "source": [
    "# 결과 시각화\n",
    "plt.figure(figsize=(12,6))\n",
    "plt.plot(test.index, test, label='실제 값')\n",
    "plt.plot(test.index[1:], naive_forecast[1:], label='Naive 예측')\n",
    "plt.plot(test.index, arima_forecast, label='ARIMA 예측')\n",
    "plt.plot(test.index[time_steps:], lstm_forecast, label='LSTM 예측')\n",
    "plt.legend()\n",
    "plt.title('모델 예측 비교')\n",
    "plt.show()"
   ]
  }
 ],
 "metadata": {
  "kernelspec": {
   "display_name": "base",
   "language": "python",
   "name": "python3"
  },
  "language_info": {
   "codemirror_mode": {
    "name": "ipython",
    "version": 3
   },
   "file_extension": ".py",
   "mimetype": "text/x-python",
   "name": "python",
   "nbconvert_exporter": "python",
   "pygments_lexer": "ipython3",
   "version": "3.11.7"
  }
 },
 "nbformat": 4,
 "nbformat_minor": 2
}
