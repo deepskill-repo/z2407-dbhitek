{
 "cells": [
  {
   "cell_type": "markdown",
   "metadata": {},
   "source": [
    "# GPT API를 통한 데이터 정제 예시"
   ]
  },
  {
   "cell_type": "markdown",
   "metadata": {},
   "source": [
    "참조 자료: [OpenAI의 공식 문서](https://platform.openai.com/docs/guides/gpt)"
   ]
  },
  {
   "cell_type": "code",
   "execution_count": null,
   "metadata": {},
   "outputs": [],
   "source": [
    "# !pip install openai"
   ]
  },
  {
   "cell_type": "markdown",
   "metadata": {},
   "source": [
    "**Key 생성 방법**\n",
    "\n",
    "- OpenAI Platform의 API Key 화면에 접속: https://platform.openai.com/api-keys\n",
    "- \"Create new secret key\" 클릭해서 생성\n",
    "- 생성한 API 키는 다시 확인이 되지 않으므로 창을 닫기 전에 복사, 저장해 둘것\n",
    "- 타인에게 절대로 노출 시키지 말것 $\\rightarrow$ 쓴 만큼 돈 나감"
   ]
  },
  {
   "cell_type": "code",
   "execution_count": null,
   "metadata": {},
   "outputs": [],
   "source": [
    "# 4.1\n",
    "from openai import OpenAI\n",
    "client = OpenAI(api_key=\"별도 제공 예정\")"
   ]
  },
  {
   "cell_type": "markdown",
   "metadata": {},
   "source": [
    "## 주소 분류하기"
   ]
  },
  {
   "cell_type": "code",
   "execution_count": null,
   "metadata": {},
   "outputs": [],
   "source": [
    "# 4.2 [TASK] \"address_data.csv\"를 불러옵니다\n"
   ]
  },
  {
   "cell_type": "code",
   "execution_count": 1,
   "metadata": {},
   "outputs": [],
   "source": [
    "# 4.3 사전에 정의된 함수\n",
    "def get_region(location):\n",
    "    PROMPT = f\"\"\"\n",
    "    {location}: 이 주소를 다음 중 하나로 분류하면? 부연 없이 분류 결과만 말해줘\n",
    "    서울, 부산, 대구, 인천, 광주, 대전, 울산, 세종, 경기, 강원, 충북, 충남, 전북, 전남, 경북, 경남, 제주\n",
    "    \"\"\"\n",
    "    response = client.chat.completions.create(\n",
    "        model=\"gpt-3.5-turbo\",\n",
    "        messages=[{\"role\": \"user\", \"content\": PROMPT}],\n",
    "        temperature=0\n",
    "    )\n",
    "    return response.choices[0].message.content"
   ]
  },
  {
   "cell_type": "code",
   "execution_count": null,
   "metadata": {},
   "outputs": [],
   "source": [
    "get_region(\"신중동역\")"
   ]
  },
  {
   "cell_type": "markdown",
   "metadata": {},
   "source": [
    "_**주의: 이 과정은 모든 분들이 한꺼번에 실행할 경우 오류 가능성이 높습니다.**_\n",
    "\n",
    "여기서는 첫 5줄만 시험 삼아 해보도록 합니다. 만약 에러가 날 경우, 나중에 다시 실행해보시기를 권장합니다. 실습 후 업무 시 활용 방안을 위해 아래 2개 링크를 첨부합니다.\n",
    "\n",
    "GPT 3.5 기준으로 아래 59개 주소를 처리하기 위한 비용은 약 $0.01(10~15원)입니다.\n",
    "\n",
    "유사하게 사용 시, 민감한 정보는 전송되지 않도록 유의해주세요."
   ]
  },
  {
   "cell_type": "code",
   "execution_count": null,
   "metadata": {},
   "outputs": [],
   "source": [
    "# 4.4 OpenAI API 적용\n",
    "address_data_test = address_data.head()\n",
    "address_data_test[\"region\"] = address_data_test[\"location\"].apply(get_region)\n",
    "address_data_test"
   ]
  },
  {
   "cell_type": "markdown",
   "metadata": {},
   "source": [
    "## 고장 내역 데이터 처리하기"
   ]
  },
  {
   "cell_type": "code",
   "execution_count": 2,
   "metadata": {},
   "outputs": [
    {
     "data": {
      "text/html": [
       "<div>\n",
       "<style scoped>\n",
       "    .dataframe tbody tr th:only-of-type {\n",
       "        vertical-align: middle;\n",
       "    }\n",
       "\n",
       "    .dataframe tbody tr th {\n",
       "        vertical-align: top;\n",
       "    }\n",
       "\n",
       "    .dataframe thead th {\n",
       "        text-align: right;\n",
       "    }\n",
       "</style>\n",
       "<table border=\"1\" class=\"dataframe\">\n",
       "  <thead>\n",
       "    <tr style=\"text-align: right;\">\n",
       "      <th></th>\n",
       "      <th>ng</th>\n",
       "    </tr>\n",
       "  </thead>\n",
       "  <tbody>\n",
       "    <tr>\n",
       "      <th>0</th>\n",
       "      <td>장비 XY-200에서 온도 센서 오작동으로 인해 생산 중단 발생</td>\n",
       "    </tr>\n",
       "    <tr>\n",
       "      <th>1</th>\n",
       "      <td>포토레지스트 오염이 발견되어 긴급 세정 작업이 필요함</td>\n",
       "    </tr>\n",
       "    <tr>\n",
       "      <th>2</th>\n",
       "      <td>웨이퍼 45장에서 박막 결함이 발생하였으며 원인은 아직 밝혀지지 않음</td>\n",
       "    </tr>\n",
       "    <tr>\n",
       "      <th>3</th>\n",
       "      <td>식각 공정 중 특정 부품의 불량으로 인해 웨이퍼에 균열이 발생함</td>\n",
       "    </tr>\n",
       "    <tr>\n",
       "      <th>4</th>\n",
       "      <td>공정 장비 ABC-100의 펌프가 고장 나서 공정이 지연되었음</td>\n",
       "    </tr>\n",
       "    <tr>\n",
       "      <th>5</th>\n",
       "      <td>특정 로트에서 미세 파티클 오염 문제가 확인되었음</td>\n",
       "    </tr>\n",
       "    <tr>\n",
       "      <th>6</th>\n",
       "      <td>도금 공정 중 도금액이 오염되어 모든 제품을 폐기 처리함</td>\n",
       "    </tr>\n",
       "    <tr>\n",
       "      <th>7</th>\n",
       "      <td>장비 DEF-300에서 전원 공급 문제로 인해 생산 라인이 중단됨</td>\n",
       "    </tr>\n",
       "    <tr>\n",
       "      <th>8</th>\n",
       "      <td>웨이퍼 78장에서 패턴 불량이 확인되었으며 이는 불량 부품 사용으로 인한 것임</td>\n",
       "    </tr>\n",
       "    <tr>\n",
       "      <th>9</th>\n",
       "      <td>증착 공정 중 화학적 오염으로 인해 다수의 결함이 발생함</td>\n",
       "    </tr>\n",
       "    <tr>\n",
       "      <th>10</th>\n",
       "      <td>신규 설치된 장비 GHI-400의 테스트 중 전자 부품 고장이 발생함</td>\n",
       "    </tr>\n",
       "    <tr>\n",
       "      <th>11</th>\n",
       "      <td>포토레지스트 오염이 다시 발생하여 추가적인 조사가 필요함</td>\n",
       "    </tr>\n",
       "    <tr>\n",
       "      <th>12</th>\n",
       "      <td>식각 장비 JKL-500의 가스 공급 장치가 오작동을 일으킴</td>\n",
       "    </tr>\n",
       "    <tr>\n",
       "      <th>13</th>\n",
       "      <td>특정 부품에서 전기적 노이즈로 인한 신호 왜곡이 발생함</td>\n",
       "    </tr>\n",
       "    <tr>\n",
       "      <th>14</th>\n",
       "      <td>박막 공정 중 파티클 오염이 발견되어 정밀 세정 작업이 필요함</td>\n",
       "    </tr>\n",
       "    <tr>\n",
       "      <th>15</th>\n",
       "      <td>검사 장비 MNO-600에서 소프트웨어 오류가 발생함</td>\n",
       "    </tr>\n",
       "    <tr>\n",
       "      <th>16</th>\n",
       "      <td>도금 공정 중 불량 부품 사용으로 인해 여러 불량이 발생함</td>\n",
       "    </tr>\n",
       "    <tr>\n",
       "      <th>17</th>\n",
       "      <td>특정 로트에서 다시 미세 파티클 오염 문제가 재확인됨</td>\n",
       "    </tr>\n",
       "    <tr>\n",
       "      <th>18</th>\n",
       "      <td>신규 설치된 장비 PQR-700의 냉각 시스템이 고장 나서 생산에 차질이 생김</td>\n",
       "    </tr>\n",
       "    <tr>\n",
       "      <th>19</th>\n",
       "      <td>패터닝 공정 중 화학적 오염으로 인해 다수의 결함이 발견됨</td>\n",
       "    </tr>\n",
       "  </tbody>\n",
       "</table>\n",
       "</div>"
      ],
      "text/plain": [
       "                                             ng\n",
       "0           장비 XY-200에서 온도 센서 오작동으로 인해 생산 중단 발생\n",
       "1                 포토레지스트 오염이 발견되어 긴급 세정 작업이 필요함\n",
       "2        웨이퍼 45장에서 박막 결함이 발생하였으며 원인은 아직 밝혀지지 않음\n",
       "3           식각 공정 중 특정 부품의 불량으로 인해 웨이퍼에 균열이 발생함\n",
       "4            공정 장비 ABC-100의 펌프가 고장 나서 공정이 지연되었음\n",
       "5                   특정 로트에서 미세 파티클 오염 문제가 확인되었음\n",
       "6               도금 공정 중 도금액이 오염되어 모든 제품을 폐기 처리함\n",
       "7          장비 DEF-300에서 전원 공급 문제로 인해 생산 라인이 중단됨\n",
       "8   웨이퍼 78장에서 패턴 불량이 확인되었으며 이는 불량 부품 사용으로 인한 것임\n",
       "9               증착 공정 중 화학적 오염으로 인해 다수의 결함이 발생함\n",
       "10       신규 설치된 장비 GHI-400의 테스트 중 전자 부품 고장이 발생함\n",
       "11              포토레지스트 오염이 다시 발생하여 추가적인 조사가 필요함\n",
       "12            식각 장비 JKL-500의 가스 공급 장치가 오작동을 일으킴\n",
       "13               특정 부품에서 전기적 노이즈로 인한 신호 왜곡이 발생함\n",
       "14           박막 공정 중 파티클 오염이 발견되어 정밀 세정 작업이 필요함\n",
       "15                검사 장비 MNO-600에서 소프트웨어 오류가 발생함\n",
       "16             도금 공정 중 불량 부품 사용으로 인해 여러 불량이 발생함\n",
       "17                특정 로트에서 다시 미세 파티클 오염 문제가 재확인됨\n",
       "18  신규 설치된 장비 PQR-700의 냉각 시스템이 고장 나서 생산에 차질이 생김\n",
       "19             패터닝 공정 중 화학적 오염으로 인해 다수의 결함이 발견됨"
      ]
     },
     "execution_count": 2,
     "metadata": {},
     "output_type": "execute_result"
    }
   ],
   "source": [
    "# 4.5 [TASK] \"ng_data.csv\"를 불러옵니다\n"
   ]
  },
  {
   "cell_type": "code",
   "execution_count": null,
   "metadata": {},
   "outputs": [],
   "source": [
    "# 4.6\n",
    "def categorize_ng(text):\n",
    "    PROMPT = f\"\"\"\n",
    "    '{text}'\n",
    "    가상의 고장 내역이야.\n",
    "    연결품질, 과금, 고객서비스 중 하나로 분류해줘. 부연 없이 정해진 분류만 답해줘.\n",
    "    \"\"\"\n",
    "    response = client.chat.completions.create(\n",
    "        model=\"gpt-3.5-turbo\",\n",
    "        messages=[{\"role\": \"user\", \"content\": PROMPT}],\n",
    "        temperature=0\n",
    "    )\n",
    "    return response.choices[0].message.content"
   ]
  },
  {
   "cell_type": "code",
   "execution_count": null,
   "metadata": {},
   "outputs": [],
   "source": [
    "# 4.7\n",
    "ng_test = ng_data[\"ng\"][1]\n",
    "print(ng_test)\n",
    "categorize_ng(ng_test)"
   ]
  },
  {
   "cell_type": "code",
   "execution_count": null,
   "metadata": {},
   "outputs": [],
   "source": [
    "# 4.8\n",
    "ng_data_test = ng_data.head()\n",
    "ng_data_test[\"category\"] = ng_data_test[\"ng\"].apply(categorize_ng)\n",
    "ng_data_test"
   ]
  }
 ],
 "metadata": {
  "kernelspec": {
   "display_name": "Python 3",
   "language": "python",
   "name": "python3"
  },
  "language_info": {
   "codemirror_mode": {
    "name": "ipython",
    "version": 3
   },
   "file_extension": ".py",
   "mimetype": "text/x-python",
   "name": "python",
   "nbconvert_exporter": "python",
   "pygments_lexer": "ipython3",
   "version": "3.11.7"
  },
  "orig_nbformat": 4
 },
 "nbformat": 4,
 "nbformat_minor": 2
}
